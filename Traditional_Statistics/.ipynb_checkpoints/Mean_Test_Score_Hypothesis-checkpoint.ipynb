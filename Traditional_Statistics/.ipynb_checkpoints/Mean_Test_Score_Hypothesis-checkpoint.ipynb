{
 "cells": [
  {
   "cell_type": "code",
   "execution_count": 20,
   "metadata": {},
   "outputs": [],
   "source": [
    "import pandas as pd\n",
    "import numpy as np\n",
    "from scipy import stats"
   ]
  },
  {
   "cell_type": "markdown",
   "metadata": {},
   "source": [
    "A random sample of 88 eighth grade students' scores on a national mathematics assessment test has a mean score 289. This test result prompts a state administrator to declare that the mean score for the state's eighth graders on this exam is more than 280. Assume that the population standard deviation is 35. At $\\alpha=0.06$, is there enough evidence to support the administrator's claim?\n",
    "\n",
    "1. Write the claim mathematically and identify $H_0$ and $H_{\\alpha}$.\n",
    "2. Find the P-value.\n",
    "3. Decide whether to reject or fail to reject the null hypothesis.\n",
    "4. Decide whether to reject or fail to reject the null hypothesis.\n",
    "5. Interpret your decision in the context of the original claim."
   ]
  },
  {
   "cell_type": "code",
   "execution_count": 16,
   "metadata": {},
   "outputs": [],
   "source": [
    "def z_score(x, mu, sd,n):\n",
    "    return (x - mu) / (sd / np.sqrt(n))"
   ]
  },
  {
   "cell_type": "code",
   "execution_count": 17,
   "metadata": {},
   "outputs": [],
   "source": [
    "#1. Claim: H_0: mu <= 280\n",
    "mu = 289\n",
    "x = 280\n",
    "sd = 35\n",
    "alpha = 0.06\n",
    "n = 88"
   ]
  },
  {
   "cell_type": "code",
   "execution_count": 26,
   "metadata": {},
   "outputs": [
    {
     "data": {
      "text/plain": [
       "-2.412213819337764"
      ]
     },
     "execution_count": 26,
     "metadata": {},
     "output_type": "execute_result"
    }
   ],
   "source": [
    "#2. \n",
    "Z = z_score(x,mu,sd,n)\n",
    "Z"
   ]
  },
  {
   "cell_type": "markdown",
   "metadata": {},
   "source": [
    "P(Z > 2.4122) = 1 - P(Z < 2.4122)\n",
    "\n",
    "= 0.0079"
   ]
  },
  {
   "cell_type": "code",
   "execution_count": 27,
   "metadata": {},
   "outputs": [
    {
     "data": {
      "text/plain": [
       "0.007927989853084513"
      ]
     },
     "execution_count": 27,
     "metadata": {},
     "output_type": "execute_result"
    }
   ],
   "source": [
    "p_value = stats.norm.cdf(Z, loc=0, scale=1)\n",
    "p_value"
   ]
  },
  {
   "cell_type": "code",
   "execution_count": 28,
   "metadata": {},
   "outputs": [
    {
     "data": {
      "text/plain": [
       "True"
      ]
     },
     "execution_count": 28,
     "metadata": {},
     "output_type": "execute_result"
    }
   ],
   "source": [
    "p_value < alpha"
   ]
  },
  {
   "cell_type": "markdown",
   "metadata": {},
   "source": [
    "Thus, the null hypothesis is rejected, their is sufficient evidence to support the claim that the mean score is greater than 280."
   ]
  }
 ],
 "metadata": {
  "kernelspec": {
   "display_name": "Python 3",
   "language": "python",
   "name": "python3"
  },
  "language_info": {
   "codemirror_mode": {
    "name": "ipython",
    "version": 3
   },
   "file_extension": ".py",
   "mimetype": "text/x-python",
   "name": "python",
   "nbconvert_exporter": "python",
   "pygments_lexer": "ipython3",
   "version": "3.7.3"
  }
 },
 "nbformat": 4,
 "nbformat_minor": 4
}
