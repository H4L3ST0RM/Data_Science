{
 "cells": [
  {
   "cell_type": "code",
   "execution_count": 2,
   "metadata": {
    "scrolled": false
   },
   "outputs": [],
   "source": [
    "using CSV, DataFrames,LinearAlgebra, Statistics"
   ]
  },
  {
   "cell_type": "code",
   "execution_count": 3,
   "metadata": {},
   "outputs": [
    {
     "data": {
      "text/plain": [
       "RMSE (generic function with 1 method)"
      ]
     },
     "execution_count": 3,
     "metadata": {},
     "output_type": "execute_result"
    }
   ],
   "source": [
    "Normalize(X)=(X .- findmin(X,dims=1)[1]) ./ (findmax(X,dims=1)[1] - findmin(X, dims=1)[1])\n",
    "ols(X,y)= pinv(X' * X) * X' * y\n",
    "ridge_ols(X,y,λ) = pinv(X' * X + λ * I) * X' * y\n",
    "lm(X,B)= X * B\n",
    "RMSE(y,ŷ) = sqrt.(sum(ŷ-y).^2/ size(y)[1])'"
   ]
  },
  {
   "cell_type": "code",
   "execution_count": 4,
   "metadata": {},
   "outputs": [],
   "source": [
    "wine = DataFrame(CSV.File(\"/home/john/Documents/julia_data/winequality-red.csv\"));"
   ]
  },
  {
   "cell_type": "code",
   "execution_count": 5,
   "metadata": {},
   "outputs": [],
   "source": [
    "X=Array(wine[!,names(wine)[1:11]])\n",
    "y=Array(wine[!,\"quality\"])\n",
    "X = Normalize(X)\n",
    "X=hcat(X,ones(size(X)[1]));"
   ]
  },
  {
   "cell_type": "code",
   "execution_count": 13,
   "metadata": {},
   "outputs": [
    {
     "name": "stdout",
     "output_type": "stream",
     "text": [
      "  0.000331 seconds (26 allocations: 204.969 KiB)\n"
     ]
    },
    {
     "data": {
      "text/plain": [
       "0.13499589484380095"
      ]
     },
     "execution_count": 13,
     "metadata": {},
     "output_type": "execute_result"
    }
   ],
   "source": [
    "@time RMSE(y,lm(X,ridge_ols(X,y,1)))"
   ]
  },
  {
   "cell_type": "code",
   "execution_count": 14,
   "metadata": {},
   "outputs": [
    {
     "name": "stdout",
     "output_type": "stream",
     "text": [
      "  0.000790 seconds (25 allocations: 203.750 KiB)\n"
     ]
    },
    {
     "data": {
      "text/plain": [
       "4.013955839618286e-12"
      ]
     },
     "execution_count": 14,
     "metadata": {},
     "output_type": "execute_result"
    }
   ],
   "source": [
    "@time RMSE(y,lm(X,ols(X,y)))"
   ]
  },
  {
   "cell_type": "code",
   "execution_count": null,
   "metadata": {},
   "outputs": [],
   "source": []
  }
 ],
 "metadata": {
  "kernelspec": {
   "display_name": "Julia 1.6.1",
   "language": "julia",
   "name": "julia-1.6"
  },
  "language_info": {
   "file_extension": ".jl",
   "mimetype": "application/julia",
   "name": "julia",
   "version": "1.6.1"
  }
 },
 "nbformat": 4,
 "nbformat_minor": 4
}
