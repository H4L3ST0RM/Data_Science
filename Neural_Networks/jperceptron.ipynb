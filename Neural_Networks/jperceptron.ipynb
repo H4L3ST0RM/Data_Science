{
 "cells": [
  {
   "cell_type": "code",
   "execution_count": 140,
   "metadata": {},
   "outputs": [],
   "source": [
    "using Statistics\n",
    "using Flux, Flux.Optimise\n",
    "using Flux: onehotbatch, onecold, flatten\n",
    "using MLDatasets: Iris\n",
    "using Base.Iterators: partition\n",
    "using CUDA\n",
    "using Distributions"
   ]
  },
  {
   "cell_type": "code",
   "execution_count": 141,
   "metadata": {},
   "outputs": [],
   "source": [
    "data = Iris.features();\n",
    "y = Iris.labels();"
   ]
  },
  {
   "cell_type": "code",
   "execution_count": 142,
   "metadata": {},
   "outputs": [
    {
     "data": {
      "text/plain": [
       "dummy_variables (generic function with 1 method)"
      ]
     },
     "execution_count": 142,
     "metadata": {},
     "output_type": "execute_result"
    }
   ],
   "source": [
    "function dummy_variables(X)\n",
    "    values = unique(X)\n",
    "    arr = Vector{Integer}(undef,length(X))\n",
    "    for i in 1:length(X)\n",
    "        j = 1\n",
    "        for v in values\n",
    "            if X[i] == v\n",
    "                arr[i] = j\n",
    "                break\n",
    "            end\n",
    "            j = j + 1\n",
    "        end\n",
    "                \n",
    "    end\n",
    "    return arr\n",
    "end"
   ]
  },
  {
   "cell_type": "code",
   "execution_count": 143,
   "metadata": {},
   "outputs": [
    {
     "data": {
      "text/plain": [
       "normalize (generic function with 1 method)"
      ]
     },
     "execution_count": 143,
     "metadata": {},
     "output_type": "execute_result"
    }
   ],
   "source": [
    "normalize(X)=(X .- findmin(X,dims=1)[1]) ./ (findmax(X,dims=1)[1] - findmin(X, dims=1)[1])"
   ]
  },
  {
   "cell_type": "code",
   "execution_count": 144,
   "metadata": {},
   "outputs": [
    {
     "data": {
      "text/plain": [
       "f (generic function with 1 method)"
      ]
     },
     "execution_count": 144,
     "metadata": {},
     "output_type": "execute_result"
    }
   ],
   "source": [
    "function f(x)\n",
    "    if x == 1\n",
    "        return -1\n",
    "    else\n",
    "        return 1\n",
    "    end\n",
    "end\n",
    "        "
   ]
  },
  {
   "cell_type": "code",
   "execution_count": 145,
   "metadata": {},
   "outputs": [
    {
     "data": {
      "text/plain": [
       "4-element Vector{Float64}:\n",
       " 5.1\n",
       " 3.5\n",
       " 1.4\n",
       " 0.2"
      ]
     },
     "execution_count": 145,
     "metadata": {},
     "output_type": "execute_result"
    }
   ],
   "source": [
    "data[:,1]"
   ]
  },
  {
   "cell_type": "code",
   "execution_count": 146,
   "metadata": {
    "scrolled": true
   },
   "outputs": [],
   "source": [
    "y=dummy_variables(y)\n",
    "y=y[1:100,]\n",
    "y=[f(i) for i in y]\n",
    "data = data[:,1:100]\n",
    "data = normalize(data);"
   ]
  },
  {
   "cell_type": "code",
   "execution_count": 147,
   "metadata": {
    "scrolled": true
   },
   "outputs": [
    {
     "data": {
      "text/plain": [
       "4×100 Matrix{Float64}:\n",
       " 1.0       1.0       1.0       …  1.0       1.0       1.0    1.0\n",
       " 0.673469  0.595745  0.666667     0.363636  0.326531  0.35   0.340909\n",
       " 0.244898  0.255319  0.244444     0.659091  0.612245  0.475  0.636364\n",
       " 0.0       0.0       0.0          0.0       0.0       0.0    0.0"
      ]
     },
     "execution_count": 147,
     "metadata": {},
     "output_type": "execute_result"
    }
   ],
   "source": [
    "data"
   ]
  },
  {
   "cell_type": "code",
   "execution_count": 217,
   "metadata": {},
   "outputs": [
    {
     "data": {
      "text/plain": [
       "perceptron (generic function with 1 method)"
      ]
     },
     "execution_count": 217,
     "metadata": {},
     "output_type": "execute_result"
    }
   ],
   "source": [
    "function perceptron(X,y)\n",
    "    w = ones(size(X)[1])\n",
    "    for j in 1:1000\n",
    "        m = 0\n",
    "        for i in 1:length(w)\n",
    "            if y[i] * (w' * X[:,i]) <= 0\n",
    "                w = w + y[i] * X[:,i]\n",
    "                m = m + 1\n",
    "            end\n",
    "        end\n",
    "        if m == 0\n",
    "            return w\n",
    "        end\n",
    "    end\n",
    "end "
   ]
  },
  {
   "cell_type": "code",
   "execution_count": 214,
   "metadata": {},
   "outputs": [
    {
     "data": {
      "text/plain": [
       "4-element Vector{Float64}:\n",
       " 1.0\n",
       " 1.0\n",
       " 1.0\n",
       " 1.0"
      ]
     },
     "execution_count": 214,
     "metadata": {},
     "output_type": "execute_result"
    }
   ],
   "source": [
    "def perceptron(X, y):\n",
    "    w = tf.Variable(np.zeros(X.shape[1]).reshape(1,X.shape[1]), dtype=np.float64)\n",
    "    for j in range(1000):\n",
    "        m = 0\n",
    "        for i in range(X.shape[0]):\n",
    "            if y[i] * (tf.tensordot(w, X[i], axes=1)) <= 0:\n",
    "                w = w + y[i] * X[i]\n",
    "                m = m + 1\n",
    "        print(m)\n",
    "        if m == 0:\n",
    "            print(\"worked!\")\n",
    "            print(w)\n",
    "            return w          "
   ]
  },
  {
   "cell_type": "code",
   "execution_count": 218,
   "metadata": {},
   "outputs": [
    {
     "data": {
      "text/plain": [
       "4-element Vector{Float64}:\n",
       " -1.0\n",
       " -0.2692140686061659\n",
       "  0.4997828918801563\n",
       "  1.0"
      ]
     },
     "execution_count": 218,
     "metadata": {},
     "output_type": "execute_result"
    }
   ],
   "source": [
    "w=perceptron(data,y)"
   ]
  },
  {
   "cell_type": "code",
   "execution_count": null,
   "metadata": {},
   "outputs": [],
   "source": []
  }
 ],
 "metadata": {
  "kernelspec": {
   "display_name": "Julia 1.6.1",
   "language": "julia",
   "name": "julia-1.6"
  },
  "language_info": {
   "file_extension": ".jl",
   "mimetype": "application/julia",
   "name": "julia",
   "version": "1.6.1"
  }
 },
 "nbformat": 4,
 "nbformat_minor": 4
}
