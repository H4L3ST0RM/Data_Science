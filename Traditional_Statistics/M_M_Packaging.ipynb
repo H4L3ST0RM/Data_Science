{
 "cells": [
  {
   "cell_type": "code",
   "execution_count": 93,
   "metadata": {},
   "outputs": [],
   "source": [
    "import numpy as np\n",
    "from scipy import stats\n",
    "import matplotlib.pyplot as plt"
   ]
  },
  {
   "cell_type": "markdown",
   "metadata": {},
   "source": [
    "### Question 1:\n",
    "\n",
    "M&M's weight 0.86 grams on average with a standard deviation of 0.04 grams, so the coefficient of variation is 0.04/0.86 = 0.047. Suppose that we decide to label packages by count rather than weight. The system adds candy to a package until the weight of the package exceeds a threshold. How large would we have to set the threshold weight to be 99.5% sure that a package has 60 pieces?"
   ]
  },
  {
   "cell_type": "code",
   "execution_count": 94,
   "metadata": {},
   "outputs": [],
   "source": [
    "# Given population data\n",
    "avg = 0.86\n",
    "std = 0.04\n",
    "n = 59"
   ]
  },
  {
   "cell_type": "markdown",
   "metadata": {},
   "source": [
    "Assuming the data is normally distributed and the weights of the M&Ms are I.I.D.\n",
    "\n",
    "$A_k$ = weight of k-1 M&Ms is less than x grams\n",
    "\n",
    "$B_k$ = At least k M&Ms are needed for the weight to exceed x grams\n",
    "\n",
    "$$P(A_k) = P(B_k)$$\n",
    "\n",
    "$$P(B_{60}) = P(A_{60}) > 0.995$$\n",
    "\n",
    "Let $W_n$ represent of the weight of the n-th M&M.\n",
    "\n",
    "Let $T_n$ represent the total weight of n M&Ms.\n",
    "\n",
    "Then\n",
    "\n",
    "$$Var(T_n) = Var(w_1 + w_2+ ... + w_n)$$\n",
    "\n",
    "$$= Var(w_1) + Var(w_2) + ... + Var(w_3)$$\n",
    "\n",
    "$$= n * 0.04^2$$"
   ]
  },
  {
   "cell_type": "code",
   "execution_count": 95,
   "metadata": {},
   "outputs": [
    {
     "data": {
      "text/plain": [
       "0.0944"
      ]
     },
     "execution_count": 95,
     "metadata": {},
     "output_type": "execute_result"
    }
   ],
   "source": [
    "varT = n * std**2\n",
    "varT"
   ]
  },
  {
   "cell_type": "markdown",
   "metadata": {},
   "source": [
    "$$sdT = \\sqrt{varT}$$"
   ]
  },
  {
   "cell_type": "code",
   "execution_count": 96,
   "metadata": {},
   "outputs": [
    {
     "data": {
      "text/plain": [
       "0.3072458299147443"
      ]
     },
     "execution_count": 96,
     "metadata": {},
     "output_type": "execute_result"
    }
   ],
   "source": [
    "sdT= np.sqrt(varT)\n",
    "sdT"
   ]
  },
  {
   "cell_type": "markdown",
   "metadata": {},
   "source": [
    "$$E(T_n) = E(w_1 + ... w_n)$$\n",
    "\n",
    "$$= n * E(w_1)$$\n",
    "\n",
    "$$= n * 0.86$$"
   ]
  },
  {
   "cell_type": "code",
   "execution_count": 97,
   "metadata": {},
   "outputs": [
    {
     "data": {
      "text/plain": [
       "50.74"
      ]
     },
     "execution_count": 97,
     "metadata": {},
     "output_type": "execute_result"
    }
   ],
   "source": [
    "meanT = n * avg\n",
    "meanT"
   ]
  },
  {
   "cell_type": "markdown",
   "metadata": {},
   "source": [
    "### Solution \n",
    "\n",
    "Due to the Central Limit Theorem, T_n becomes more normally distributed as n increases.\n",
    "\n",
    "P($A_{60}$) = P(weight of 59 M&Ms is less than x ounces) = 0.995\n",
    "\n",
    "P($T_{59}$ < x) = 0.995"
   ]
  },
  {
   "cell_type": "code",
   "execution_count": 98,
   "metadata": {},
   "outputs": [
    {
     "data": {
      "text/plain": [
       "51.5314128120876"
      ]
     },
     "execution_count": 98,
     "metadata": {},
     "output_type": "execute_result"
    }
   ],
   "source": [
    "stats.norm.ppf(0.995, loc=meanT, scale=sdT)  # Percent point function (inverse of cdf — percentiles)"
   ]
  },
  {
   "cell_type": "markdown",
   "metadata": {},
   "source": [
    "### Simulation"
   ]
  },
  {
   "cell_type": "code",
   "execution_count": 99,
   "metadata": {},
   "outputs": [
    {
     "data": {
      "text/plain": [
       "-1.628426989640872"
      ]
     },
     "execution_count": 99,
     "metadata": {},
     "output_type": "execute_result"
    }
   ],
   "source": [
    "np.random.normal()"
   ]
  },
  {
   "cell_type": "code",
   "execution_count": 100,
   "metadata": {},
   "outputs": [
    {
     "data": {
      "text/plain": [
       "array([0.86923686, 0.86205325, 0.8808837 , 0.8759044 , 0.87898767,\n",
       "       0.8825449 , 0.81442943, 0.89872512, 0.81453905, 0.83112771,\n",
       "       0.8412888 , 0.8792482 , 0.87112485, 0.86987563, 0.93032939,\n",
       "       0.93316223, 0.9172563 , 0.83896292, 0.84559387, 0.84162996,\n",
       "       0.88067844, 0.85178688, 0.81736759, 0.88066301, 0.80824686,\n",
       "       0.88173406, 0.90193609, 0.91043515, 0.78898486, 0.8794394 ,\n",
       "       0.84442496, 0.90268045, 0.84674961, 0.86580436, 0.87113518,\n",
       "       0.89044556, 0.85786059, 0.94559692, 0.86881219, 0.83756433,\n",
       "       0.85669466, 0.84173169, 0.89181474, 0.90297105, 0.833689  ,\n",
       "       0.82783032, 0.88602112, 0.86840057, 0.75901504, 0.89788984,\n",
       "       0.917771  , 0.83866512, 0.90950108, 0.87934702, 0.75309352,\n",
       "       0.84276386, 0.93438743, 0.85423053, 0.85638173])"
      ]
     },
     "execution_count": 100,
     "metadata": {},
     "output_type": "execute_result"
    }
   ],
   "source": [
    "np.random.normal(avg, std, n)"
   ]
  },
  {
   "cell_type": "code",
   "execution_count": 101,
   "metadata": {},
   "outputs": [],
   "source": [
    "sums = []\n",
    "\n",
    "for i in range(0,1000000):\n",
    "    tot = np.random.normal(avg, std, n)\n",
    "    sums.append(tot.sum())\n",
    "sums = np.array(sums)"
   ]
  },
  {
   "cell_type": "code",
   "execution_count": 102,
   "metadata": {},
   "outputs": [
    {
     "data": {
      "text/plain": [
       "[<matplotlib.lines.Line2D at 0x229a8e94be0>]"
      ]
     },
     "execution_count": 102,
     "metadata": {},
     "output_type": "execute_result"
    },
    {
     "data": {
      "image/png": "[encoded data removed]",
      "text/plain": [
       "<Figure size 432x288 with 1 Axes>"
      ]
     },
     "metadata": {
      "needs_background": "light"
     },
     "output_type": "display_data"
    }
   ],
   "source": [
    "x=np.linspace(sums.min(),sums.max(), 10000)\n",
    "y=stats.norm.cdf(x, sums.mean(), sums.std())\n",
    "plt.plot(x,y)"
   ]
  },
  {
   "cell_type": "code",
   "execution_count": 103,
   "metadata": {},
   "outputs": [
    {
     "data": {
      "text/plain": [
       "array([9.90341281e-07, 1.00442604e-06, 1.00738415e-06, ...,\n",
       "       1.00328965e-06, 9.91593815e-07, 1.00554581e-06])"
      ]
     },
     "execution_count": 103,
     "metadata": {},
     "output_type": "execute_result"
    }
   ],
   "source": [
    "sums / sums.sum()"
   ]
  },
  {
   "cell_type": "code",
   "execution_count": 104,
   "metadata": {},
   "outputs": [
    {
     "data": {
      "text/plain": [
       "[<matplotlib.lines.Line2D at 0x229a8ef2550>]"
      ]
     },
     "execution_count": 104,
     "metadata": {},
     "output_type": "execute_result"
    },
    {
     "data": {
      "image/png": "[encoded data removed]",
      "text/plain": [
       "<Figure size 432x288 with 1 Axes>"
      ]
     },
     "metadata": {
      "needs_background": "light"
     },
     "output_type": "display_data"
    }
   ],
   "source": [
    "x=np.linspace(sums.min(),sums.max(), 10000)\n",
    "y=stats.norm.pdf(x, sums.mean(), sums.std())\n",
    "#plt.hist(sums, bins = 30)\n",
    "plt.plot(x,y)"
   ]
  },
  {
   "cell_type": "code",
   "execution_count": 105,
   "metadata": {},
   "outputs": [
    {
     "data": {
      "text/plain": [
       "51.53149981865015"
      ]
     },
     "execution_count": 105,
     "metadata": {},
     "output_type": "execute_result"
    }
   ],
   "source": [
    "stats.norm.ppf(0.995, loc=sums.mean(), scale=sums.std())  # Percent point function (inverse of cdf — percentiles)"
   ]
  },
  {
   "cell_type": "code",
   "execution_count": 106,
   "metadata": {},
   "outputs": [
    {
     "data": {
      "text/plain": [
       "array([49.22175371, 49.2220549 , 49.2223561 , ..., 52.23279534,\n",
       "       52.23309654, 52.23339773])"
      ]
     },
     "execution_count": 106,
     "metadata": {},
     "output_type": "execute_result"
    }
   ],
   "source": [
    "np.linspace(sums.min(),sums.max(), 10000)"
   ]
  },
  {
   "cell_type": "markdown",
   "metadata": {},
   "source": [
    "# Question 2:\n",
    "\n",
    "Suupose the same system is used (packaging by count). But this time we only want to have 10 pieces in a package. Where is the target weight? (Again, we want to be 99.5% sure that the package has at least 10 pieces.) What assumption is particularly relevant with these small counts?"
   ]
  },
  {
   "cell_type": "code",
   "execution_count": 107,
   "metadata": {},
   "outputs": [],
   "source": [
    "# Given population data\n",
    "avg = 0.86\n",
    "std = 0.04\n",
    "n = 9"
   ]
  },
  {
   "cell_type": "code",
   "execution_count": 108,
   "metadata": {},
   "outputs": [
    {
     "data": {
      "text/plain": [
       "0.014400000000000001"
      ]
     },
     "execution_count": 108,
     "metadata": {},
     "output_type": "execute_result"
    }
   ],
   "source": [
    "varT = n * std**2\n",
    "varT"
   ]
  },
  {
   "cell_type": "code",
   "execution_count": 109,
   "metadata": {},
   "outputs": [
    {
     "data": {
      "text/plain": [
       "0.3072458299147443"
      ]
     },
     "execution_count": 109,
     "metadata": {},
     "output_type": "execute_result"
    }
   ],
   "source": [
    "sdT = np.sqrt(varT)\n",
    "sdt"
   ]
  },
  {
   "cell_type": "code",
   "execution_count": 110,
   "metadata": {},
   "outputs": [
    {
     "data": {
      "text/plain": [
       "7.74"
      ]
     },
     "execution_count": 110,
     "metadata": {},
     "output_type": "execute_result"
    }
   ],
   "source": [
    "meanT = n * avg\n",
    "meanT"
   ]
  },
  {
   "cell_type": "code",
   "execution_count": 111,
   "metadata": {},
   "outputs": [
    {
     "data": {
      "text/plain": [
       "8.04909951642587"
      ]
     },
     "execution_count": 111,
     "metadata": {},
     "output_type": "execute_result"
    }
   ],
   "source": [
    "stats.norm.ppf(0.995, loc=meanT, scale=sdT)  # Percent point function (inverse of cdf — percentiles)"
   ]
  },
  {
   "cell_type": "code",
   "execution_count": null,
   "metadata": {},
   "outputs": [],
   "source": []
  },
  {
   "cell_type": "code",
   "execution_count": 112,
   "metadata": {},
   "outputs": [],
   "source": [
    "sums = []\n",
    "\n",
    "for i in range(0,1000000):\n",
    "    tot = np.random.normal(avg, std, n)\n",
    "    sums.append(tot.sum())\n",
    "sums = np.array(sums)"
   ]
  },
  {
   "cell_type": "code",
   "execution_count": 113,
   "metadata": {},
   "outputs": [
    {
     "data": {
      "text/plain": [
       "[<matplotlib.lines.Line2D at 0x229a8f56be0>]"
      ]
     },
     "execution_count": 113,
     "metadata": {},
     "output_type": "execute_result"
    },
    {
     "data": {
      "image/png": "[encoded data removed]",
      "text/plain": [
       "<Figure size 432x288 with 1 Axes>"
      ]
     },
     "metadata": {
      "needs_background": "light"
     },
     "output_type": "display_data"
    }
   ],
   "source": [
    "x=np.linspace(sums.min(),sums.max(), 10000)\n",
    "y=stats.norm.cdf(x, sums.mean(), sums.std())\n",
    "plt.plot(x,y)"
   ]
  },
  {
   "cell_type": "code",
   "execution_count": 114,
   "metadata": {},
   "outputs": [
    {
     "data": {
      "text/plain": [
       "[<matplotlib.lines.Line2D at 0x229a8fbd208>]"
      ]
     },
     "execution_count": 114,
     "metadata": {},
     "output_type": "execute_result"
    },
    {
     "data": {
      "image/png": "[encoded data removed]",
      "text/plain": [
       "<Figure size 432x288 with 1 Axes>"
      ]
     },
     "metadata": {
      "needs_background": "light"
     },
     "output_type": "display_data"
    }
   ],
   "source": [
    "x=np.linspace(sums.min(),sums.max(), 10000)\n",
    "y=stats.norm.pdf(x, sums.mean(), sums.std())\n",
    "#plt.hist(sums, bins = 30)\n",
    "plt.plot(x,y)"
   ]
  },
  {
   "cell_type": "code",
   "execution_count": 115,
   "metadata": {},
   "outputs": [
    {
     "data": {
      "text/plain": [
       "8.048689065381005"
      ]
     },
     "execution_count": 115,
     "metadata": {},
     "output_type": "execute_result"
    }
   ],
   "source": [
    "stats.norm.ppf(0.995, loc=sums.mean(), scale=sums.std())  # Percent point function (inverse of cdf — percentiles)"
   ]
  },
  {
   "cell_type": "markdown",
   "metadata": {},
   "source": [
    "# Problem 3:\n",
    "\n",
    "In which situation (10 pieces or 60 pieces) would the packagin system be more likely to put more than the labeled count of candies into the package?"
   ]
  },
  {
   "cell_type": "code",
   "execution_count": 116,
   "metadata": {},
   "outputs": [],
   "source": [
    "# Given population data\n",
    "avg = 0.86\n",
    "std = 0.04"
   ]
  },
  {
   "cell_type": "code",
   "execution_count": 117,
   "metadata": {},
   "outputs": [],
   "source": [
    "avg61 = avg * 60\n",
    "std61 = std * np.sqrt(61)"
   ]
  },
  {
   "cell_type": "code",
   "execution_count": 128,
   "metadata": {},
   "outputs": [
    {
     "data": {
      "text/plain": [
       "0.4113535420329929"
      ]
     },
     "execution_count": 128,
     "metadata": {},
     "output_type": "execute_result"
    }
   ],
   "source": [
    "stats.norm.cdf(51.53, loc=avg61, scale=std61)"
   ]
  },
  {
   "cell_type": "code",
   "execution_count": 129,
   "metadata": {},
   "outputs": [],
   "source": [
    "avg11 = avg * 10\n",
    "std11 = std * np.sqrt(11)"
   ]
  },
  {
   "cell_type": "code",
   "execution_count": 130,
   "metadata": {},
   "outputs": [
    {
     "data": {
      "text/plain": [
       "1.6932870656650566e-05"
      ]
     },
     "execution_count": 130,
     "metadata": {},
     "output_type": "execute_result"
    }
   ],
   "source": [
    "stats.norm.cdf(8.05, avg11, std11)"
   ]
  },
  {
   "cell_type": "code",
   "execution_count": null,
   "metadata": {},
   "outputs": [],
   "source": []
  }
 ],
 "metadata": {
  "kernelspec": {
   "display_name": "Python 3",
   "language": "python",
   "name": "python3"
  },
  "language_info": {
   "codemirror_mode": {
    "name": "ipython",
    "version": 3
   },
   "file_extension": ".py",
   "mimetype": "text/x-python",
   "name": "python",
   "nbconvert_exporter": "python",
   "pygments_lexer": "ipython3",
   "version": "3.8.10"
  }
 },
 "nbformat": 4,
 "nbformat_minor": 4
}
