{
 "cells": [
  {
   "cell_type": "markdown",
   "metadata": {},
   "source": [
    "Linear Regression Using Numpy"
   ]
  },
  {
   "cell_type": "code",
   "execution_count": 2,
   "metadata": {},
   "outputs": [],
   "source": [
    "import pandas as pd\n",
    "import numpy as np\n",
    "import matplotlib.pyplot as plt"
   ]
  },
  {
   "cell_type": "markdown",
   "metadata": {},
   "source": [
    "Importing data"
   ]
  },
  {
   "cell_type": "code",
   "execution_count": 3,
   "metadata": {},
   "outputs": [],
   "source": [
    "data = pd.read_csv('../data/weight_height_data.csv',index_col='Index')\n",
    "#data = data.sample(n=1000, random_state=1)\n",
    "X = data[\"Height(Inches)\"].values\n",
    "y = data[\"Weight(Pounds)\"].values"
   ]
  },
  {
   "cell_type": "markdown",
   "metadata": {},
   "source": [
    "Defining the linear model\n",
    "\n",
    "$$\\hat{y} = \\vec{\\beta} \\vec{X} + \\alpha$$"
   ]
  },
  {
   "cell_type": "markdown",
   "metadata": {},
   "source": [
    "Objective Function: \n",
    "\n",
    "$$\\vec{\\hat{\\beta}}=\\min_{\\vec{\\hat{\\beta}}} L(D, \\vec{\\beta}) =\\min_{\\vec{\\hat{\\beta}}} \\sum_{i=1}^{n}{(\\hat{\\beta} .\\vec{x_i} - y_i)^2}$$\n",
    "$$L(D,\\vec{\\beta})=||X\\vec{\\beta} - Y||^2$$\n",
    "$$=(X\\vec{\\beta}-y)^T(X\\vec{\\beta}-Y)$$\n",
    "$$=Y^TY-Y^TX\\vec{\\beta}-\\vec{\\beta}^TX^TY+\\vec{\\beta}^TX^TX\\vec{\\beta}$$\n",
    "\n",
    "Get gradient w.r.t. $\\vec{\\beta}$\n",
    "\n",
    "$$\\frac{\\partial{L(D,\\vec{\\beta})}}{\\partial{\\vec{\\beta}}} = \\frac{\\partial{(Y^TY-Y^TX\\vec{\\beta}-\\vec{\\beta}^TX^TY+\\vec{\\beta}X^TX\\vec{\\beta}})}{\\partial{\\vec{\\beta}}}$$\n",
    "$$= -2Y^TX+2\\vec{\\beta}^TX^TX$$\n",
    "$$=-2Y^TX+2\\vec{\\beta}+2\\vec{\\beta}^TX^TX$$\n",
    "\n",
    "Set gradient to zero.\n",
    "\n",
    "$$=-2Y^TX+2\\vec{\\beta}^TX^TX=0$$\n",
    "$$Y^TX=\\vec{\\beta}^TX^TX$$\n",
    "$$X^TY=X^TX\\vec{\\beta}$$\n",
    "$$\\vec{\\beta}=(X^TX)^{-1}X^TY$$"
   ]
  },
  {
   "cell_type": "markdown",
   "metadata": {},
   "source": [
    "Optimize the parameters $\\vec{\\beta}$ and $\\alpha$ using ordinary least squares (OLS)\n",
    "\n",
    "In this case, the first element of $\\vec{\\beta}$ is $\\alpha$. We also concatenate a ones vector ($\\vec{1}$) to the beginning of $\\vec{X}$ to account for the intercept $\\alpha$.\n",
    "\n",
    "\n",
    "\n",
    "$$\\hat{\\beta} = (\\vec{X}^{T} \\vec{X})^{-1} \\vec{X}^{T} \\vec{y}$$"
   ]
  },
  {
   "cell_type": "code",
   "execution_count": 4,
   "metadata": {},
   "outputs": [],
   "source": [
    "def ols(X, y):\n",
    "    X = np.array([np.ones(len(X)),X]).T\n",
    "    betas = np.linalg.pinv(X.T @ X) @ X.T @ y\n",
    "    return betas"
   ]
  },
  {
   "cell_type": "markdown",
   "metadata": {},
   "source": [
    "Root Mean Square Error\n",
    "\n",
    "$$rmse(\\hat{y},y)=\\sqrt{\\frac{1}{n}\\sum_{i}^{n}{(\\hat{y}-y)}^2}$$"
   ]
  },
  {
   "cell_type": "code",
   "execution_count": 5,
   "metadata": {},
   "outputs": [],
   "source": [
    "def mse(y_hat, y):\n",
    "    return np.mean((y_hat - y)**2)"
   ]
  },
  {
   "cell_type": "code",
   "execution_count": 6,
   "metadata": {},
   "outputs": [],
   "source": [
    "def rmse(y_hat, y):\n",
    "    return np.sqrt(mse(y_hat,y))"
   ]
  },
  {
   "cell_type": "code",
   "execution_count": 7,
   "metadata": {},
   "outputs": [
    {
     "data": {
      "text/plain": [
       "array([-82.57574307,   3.08347645])"
      ]
     },
     "execution_count": 7,
     "metadata": {},
     "output_type": "execute_result"
    }
   ],
   "source": [
    "betas = ols(X,y)\n",
    "betas"
   ]
  },
  {
   "cell_type": "code",
   "execution_count": 8,
   "metadata": {},
   "outputs": [],
   "source": [
    "yhat = np.array([np.ones(len(X)),X]).T @ betas"
   ]
  },
  {
   "cell_type": "code",
   "execution_count": 9,
   "metadata": {},
   "outputs": [
    {
     "data": {
      "text/plain": [
       "10.079113675632819"
      ]
     },
     "execution_count": 9,
     "metadata": {},
     "output_type": "execute_result"
    }
   ],
   "source": [
    "rmse(yhat,y)"
   ]
  },
  {
   "cell_type": "code",
   "execution_count": 10,
   "metadata": {},
   "outputs": [
    {
     "data": {
      "text/html": [
       "<div>\n",
       "<style scoped>\n",
       "    .dataframe tbody tr th:only-of-type {\n",
       "        vertical-align: middle;\n",
       "    }\n",
       "\n",
       "    .dataframe tbody tr th {\n",
       "        vertical-align: top;\n",
       "    }\n",
       "\n",
       "    .dataframe thead th {\n",
       "        text-align: right;\n",
       "    }\n",
       "</style>\n",
       "<table border=\"1\" class=\"dataframe\">\n",
       "  <thead>\n",
       "    <tr style=\"text-align: right;\">\n",
       "      <th></th>\n",
       "      <th>0</th>\n",
       "      <th>1</th>\n",
       "    </tr>\n",
       "  </thead>\n",
       "  <tbody>\n",
       "    <tr>\n",
       "      <th>0</th>\n",
       "      <td>120.265544</td>\n",
       "      <td>112.9925</td>\n",
       "    </tr>\n",
       "    <tr>\n",
       "      <th>1</th>\n",
       "      <td>137.939722</td>\n",
       "      <td>136.4873</td>\n",
       "    </tr>\n",
       "    <tr>\n",
       "      <th>2</th>\n",
       "      <td>131.413637</td>\n",
       "      <td>153.0269</td>\n",
       "    </tr>\n",
       "    <tr>\n",
       "      <th>3</th>\n",
       "      <td>127.768536</td>\n",
       "      <td>142.3354</td>\n",
       "    </tr>\n",
       "    <tr>\n",
       "      <th>4</th>\n",
       "      <td>126.446372</td>\n",
       "      <td>144.2971</td>\n",
       "    </tr>\n",
       "    <tr>\n",
       "      <th>...</th>\n",
       "      <td>...</td>\n",
       "      <td>...</td>\n",
       "    </tr>\n",
       "    <tr>\n",
       "      <th>24995</th>\n",
       "      <td>131.732499</td>\n",
       "      <td>118.0312</td>\n",
       "    </tr>\n",
       "    <tr>\n",
       "      <th>24996</th>\n",
       "      <td>116.457296</td>\n",
       "      <td>120.1932</td>\n",
       "    </tr>\n",
       "    <tr>\n",
       "      <th>24997</th>\n",
       "      <td>116.920712</td>\n",
       "      <td>118.2655</td>\n",
       "    </tr>\n",
       "    <tr>\n",
       "      <th>24998</th>\n",
       "      <td>125.648893</td>\n",
       "      <td>132.2682</td>\n",
       "    </tr>\n",
       "    <tr>\n",
       "      <th>24999</th>\n",
       "      <td>129.806745</td>\n",
       "      <td>124.8742</td>\n",
       "    </tr>\n",
       "  </tbody>\n",
       "</table>\n",
       "<p>25000 rows × 2 columns</p>\n",
       "</div>"
      ],
      "text/plain": [
       "                0         1\n",
       "0      120.265544  112.9925\n",
       "1      137.939722  136.4873\n",
       "2      131.413637  153.0269\n",
       "3      127.768536  142.3354\n",
       "4      126.446372  144.2971\n",
       "...           ...       ...\n",
       "24995  131.732499  118.0312\n",
       "24996  116.457296  120.1932\n",
       "24997  116.920712  118.2655\n",
       "24998  125.648893  132.2682\n",
       "24999  129.806745  124.8742\n",
       "\n",
       "[25000 rows x 2 columns]"
      ]
     },
     "execution_count": 10,
     "metadata": {},
     "output_type": "execute_result"
    }
   ],
   "source": [
    "pd.DataFrame([yhat,y]).T"
   ]
  },
  {
   "cell_type": "code",
   "execution_count": 11,
   "metadata": {},
   "outputs": [
    {
     "data": {
      "text/plain": [
       "101.58853248632849"
      ]
     },
     "execution_count": 11,
     "metadata": {},
     "output_type": "execute_result"
    }
   ],
   "source": [
    "mse(yhat,y)"
   ]
  },
  {
   "cell_type": "code",
   "execution_count": 25,
   "metadata": {},
   "outputs": [
    {
     "data": {
      "text/plain": [
       "array([-82.57574307,   3.08347645])"
      ]
     },
     "execution_count": 25,
     "metadata": {},
     "output_type": "execute_result"
    }
   ],
   "source": [
    "betas"
   ]
  },
  {
   "cell_type": "code",
   "execution_count": 18,
   "metadata": {},
   "outputs": [],
   "source": [
    "from sklearn.linear_model import LinearRegression\n",
    "model = LinearRegression().fit(X.reshape(-1,1),y)"
   ]
  },
  {
   "cell_type": "code",
   "execution_count": 23,
   "metadata": {},
   "outputs": [
    {
     "name": "stdout",
     "output_type": "stream",
     "text": [
      "[3.08347645]\n",
      "-82.57574306454056\n"
     ]
    }
   ],
   "source": [
    "print(model.coef_)\n",
    "\n",
    "print(model.intercept_)"
   ]
  },
  {
   "cell_type": "code",
   "execution_count": 11,
   "metadata": {
    "scrolled": true
   },
   "outputs": [
    {
     "data": {
      "text/plain": [
       "<matplotlib.collections.PathCollection at 0x29738d98358>"
      ]
     },
     "execution_count": 11,
     "metadata": {},
     "output_type": "execute_result"
    },
    {
     "data": {
      "image/png": "[encoded data removed]",
      "text/plain": [
       "<Figure size 432x288 with 1 Axes>"
      ]
     },
     "metadata": {
      "needs_background": "light"
     },
     "output_type": "display_data"
    }
   ],
   "source": [
    "plt.plot(X,yhat, 'r--')\n",
    "plt.scatter(X,y, alpha=0.05)"
   ]
  }
 ],
 "metadata": {
  "kernelspec": {
   "display_name": "Python 3",
   "language": "python",
   "name": "python3"
  },
  "language_info": {
   "codemirror_mode": {
    "name": "ipython",
    "version": 3
   },
   "file_extension": ".py",
   "mimetype": "text/x-python",
   "name": "python",
   "nbconvert_exporter": "python",
   "pygments_lexer": "ipython3",
   "version": "3.7.3"
  }
 },
 "nbformat": 4,
 "nbformat_minor": 4
}
