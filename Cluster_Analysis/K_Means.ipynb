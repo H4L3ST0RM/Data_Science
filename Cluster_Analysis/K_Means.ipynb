{
 "cells": [
  {
   "cell_type": "code",
   "execution_count": 2,
   "metadata": {},
   "outputs": [],
   "source": [
    "import pandas as pd\n",
    "import numpy as np\n",
    "import matplotlib.pyplot as plt"
   ]
  },
  {
   "cell_type": "code",
   "execution_count": 3,
   "metadata": {},
   "outputs": [
    {
     "data": {
      "text/html": [
       "<div>\n",
       "<style scoped>\n",
       "    .dataframe tbody tr th:only-of-type {\n",
       "        vertical-align: middle;\n",
       "    }\n",
       "\n",
       "    .dataframe tbody tr th {\n",
       "        vertical-align: top;\n",
       "    }\n",
       "\n",
       "    .dataframe thead th {\n",
       "        text-align: right;\n",
       "    }\n",
       "</style>\n",
       "<table border=\"1\" class=\"dataframe\">\n",
       "  <thead>\n",
       "    <tr style=\"text-align: right;\">\n",
       "      <th></th>\n",
       "      <th>Gender</th>\n",
       "      <th>Height</th>\n",
       "      <th>Weight</th>\n",
       "    </tr>\n",
       "  </thead>\n",
       "  <tbody>\n",
       "    <tr>\n",
       "      <th>0</th>\n",
       "      <td>1</td>\n",
       "      <td>73.847017</td>\n",
       "      <td>241.893563</td>\n",
       "    </tr>\n",
       "    <tr>\n",
       "      <th>1</th>\n",
       "      <td>1</td>\n",
       "      <td>68.781904</td>\n",
       "      <td>162.310473</td>\n",
       "    </tr>\n",
       "    <tr>\n",
       "      <th>2</th>\n",
       "      <td>1</td>\n",
       "      <td>74.110105</td>\n",
       "      <td>212.740856</td>\n",
       "    </tr>\n",
       "    <tr>\n",
       "      <th>3</th>\n",
       "      <td>1</td>\n",
       "      <td>71.730978</td>\n",
       "      <td>220.042470</td>\n",
       "    </tr>\n",
       "    <tr>\n",
       "      <th>4</th>\n",
       "      <td>1</td>\n",
       "      <td>69.881796</td>\n",
       "      <td>206.349801</td>\n",
       "    </tr>\n",
       "  </tbody>\n",
       "</table>\n",
       "</div>"
      ],
      "text/plain": [
       "   Gender     Height      Weight\n",
       "0       1  73.847017  241.893563\n",
       "1       1  68.781904  162.310473\n",
       "2       1  74.110105  212.740856\n",
       "3       1  71.730978  220.042470\n",
       "4       1  69.881796  206.349801"
      ]
     },
     "execution_count": 3,
     "metadata": {},
     "output_type": "execute_result"
    }
   ],
   "source": [
    "data = pd.read_csv('./data/gender_weight_height.csv')#,index_col='Index')\n",
    "data[\"Gender\"] = [1 if g == \"Male\" else 0 for g in data[\"Gender\"]]\n",
    "data.head()"
   ]
  },
  {
   "cell_type": "code",
   "execution_count": 115,
   "metadata": {},
   "outputs": [],
   "source": [
    "X = data[[\"Height\", \"Weight\"]].values"
   ]
  },
  {
   "cell_type": "code",
   "execution_count": 117,
   "metadata": {},
   "outputs": [],
   "source": [
    "y = data[\"Gender\"].values"
   ]
  },
  {
   "cell_type": "markdown",
   "metadata": {},
   "source": [
    "$$Euclidean\\ Norm= \\sqrt{\\sum_{i}^{n}{\\sum_{j}^{m}{(a_{ij}-b_{ij})^2}}}$$"
   ]
  },
  {
   "cell_type": "code",
   "execution_count": 216,
   "metadata": {},
   "outputs": [],
   "source": [
    "def euclidean_norm(a, b):\n",
    "    a = np.array(a)\n",
    "    b = np.array(b)\n",
    "    return np.sqrt(np.sum((a - b)**2, axis=1))"
   ]
  },
  {
   "cell_type": "markdown",
   "metadata": {},
   "source": [
    "$$Frobenius\\ Norm= \\sqrt{\\sum_{i}^{n}{\\sum_{j}^{m}{|a_{ij}-b_{ij}|}}}$$"
   ]
  },
  {
   "cell_type": "code",
   "execution_count": null,
   "metadata": {},
   "outputs": [],
   "source": [
    "def frobenius_norm(a,b):\n",
    "    a = np.array(a)\n",
    "    b = np.array(b)\n",
    "    return np.sqrt(np.sum(np.abs(a - b)))"
   ]
  },
  {
   "cell_type": "markdown",
   "metadata": {},
   "source": [
    "1. set k\n",
    "2. initialize k centroids\n",
    "3. for so many iterations\n",
    "    <ol type=\"a\">\n",
    "  <li>find distance data points are from each centroid</li>\n",
    "  <li>cluster the data points with the centroid they are closet too</li>\n",
    "  <li>move the centroid to the mean of its cluster</li>\n",
    "</ol>"
   ]
  },
  {
   "cell_type": "code",
   "execution_count": 331,
   "metadata": {},
   "outputs": [],
   "source": [
    "class k_means:\n",
    "    def __init__(self, k=3, tol=10e-4, iters=10, seed=None):\n",
    "        self.k = k\n",
    "        self.centroids = []\n",
    "        self.k = k\n",
    "        self.tol = tol\n",
    "        self.iters = iters\n",
    "        self.seed = seed\n",
    "        \n",
    "    def fit(self, X, y):\n",
    "        # initialize clusters\n",
    "        if self.seed != None:\n",
    "            np.random.seed(self.seed)\n",
    "\n",
    "        for i in range(0,self.k):\n",
    "            self.centroids.append(np.random.uniform(X.min(),X.max(), X.ndim))\n",
    "        for j in range(0,self.iters):\n",
    "            # Calculate distances\n",
    "            dists = []\n",
    "            for i in range(0, self.k):    \n",
    "                dists.append(euclidean_norm(self.centroids[i],X))\n",
    "            dists = np.array(dists).T\n",
    "\n",
    "            \n",
    "            # Assign Clusters\n",
    "            cluster = []\n",
    "            for i in range(0,self.k):\n",
    "                cluster.append([])\n",
    "            \n",
    "            for i in range(0,len(dists)):\n",
    "                mini = dists[i].min()\n",
    "                \n",
    "                for m in range(0,len(dists[i])):\n",
    "                     if dists[i][m] == mini:\n",
    "                            cluster[m].append(X[i])\n",
    "                            break\n",
    "\n",
    "            # Find new centroids/Check tolerance\n",
    "            tol_met = 0\n",
    "            for i in range(0, self.k):\n",
    "                new_center = np.array(cluster[i]).mean(axis=0)\n",
    "                if frobenius_norm(self.centroids[i], new_center) < self.tol: \n",
    "                    tol_met = tol_met + 1\n",
    "                \n",
    "                self.centroids[i] = new_center\n",
    "\n",
    "            # Check tolerance\n",
    "            if tol_met == X.ndim:\n",
    "                self.centroids = np.array(self.centroids)\n",
    "                break\n",
    "                \n",
    "        self.centroids = np.array(self.centroids)"
   ]
  },
  {
   "cell_type": "code",
   "execution_count": 332,
   "metadata": {},
   "outputs": [],
   "source": [
    "algo = k_means(2,iters=100,seed=5)\n",
    "algo.fit(X,y)"
   ]
  },
  {
   "cell_type": "code",
   "execution_count": 333,
   "metadata": {},
   "outputs": [
    {
     "data": {
      "text/plain": [
       "array([[ 63.41701515, 134.36937255],\n",
       "       [ 69.35970318, 188.89300655]])"
      ]
     },
     "execution_count": 333,
     "metadata": {},
     "output_type": "execute_result"
    }
   ],
   "source": [
    "algo.centroids"
   ]
  },
  {
   "cell_type": "code",
   "execution_count": 334,
   "metadata": {},
   "outputs": [
    {
     "data": {
      "text/plain": [
       "<matplotlib.collections.PathCollection at 0x250109fbcc0>"
      ]
     },
     "execution_count": 334,
     "metadata": {},
     "output_type": "execute_result"
    },
    {
     "data": {
      "image/png": "[encoded data removed]",
      "text/plain": [
       "<Figure size 432x288 with 1 Axes>"
      ]
     },
     "metadata": {
      "needs_background": "light"
     },
     "output_type": "display_data"
    }
   ],
   "source": [
    "plt.scatter(X[:,0],X[:,1],c=y)\n",
    "plt.scatter(algo.centroids[:,0], algo.centroids[:,1])\n"
   ]
  },
  {
   "cell_type": "code",
   "execution_count": null,
   "metadata": {},
   "outputs": [],
   "source": []
  }
 ],
 "metadata": {
  "kernelspec": {
   "display_name": "Python 3",
   "language": "python",
   "name": "python3"
  },
  "language_info": {
   "codemirror_mode": {
    "name": "ipython",
    "version": 3
   },
   "file_extension": ".py",
   "mimetype": "text/x-python",
   "name": "python",
   "nbconvert_exporter": "python",
   "pygments_lexer": "ipython3",
   "version": "3.8.10"
  }
 },
 "nbformat": 4,
 "nbformat_minor": 4
}
